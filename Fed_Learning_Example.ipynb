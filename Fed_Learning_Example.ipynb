{
  "nbformat": 4,
  "nbformat_minor": 0,
  "metadata": {
    "colab": {
      "name": "Fed_Learning_Example.ipynb",
      "provenance": [],
      "collapsed_sections": []
    },
    "kernelspec": {
      "name": "python3",
      "display_name": "Python 3"
    },
    "language_info": {
      "name": "python"
    },
    "accelerator": "GPU"
  },
  "cells": [
    {
      "cell_type": "markdown",
      "metadata": {
        "id": "4BRHfozH_zwW"
      },
      "source": [
        "# Import necessary libraries"
      ]
    },
    {
      "cell_type": "code",
      "metadata": {
        "id": "U-DJPsVrQ9Ea",
        "colab": {
          "base_uri": "https://localhost:8080/"
        },
        "outputId": "33522c56-0c0f-4a48-c973-d162486a375b"
      },
      "source": [
        "# Imports\n",
        "import numpy as np\n",
        "import pandas as pd\n",
        "import matplotlib.pyplot as plt\n",
        "\n",
        "import tensorflow as tf\n",
        "from tensorflow import keras\n",
        "from keras.datasets import mnist\n",
        "\n",
        "# Train reference model\n",
        "from google.colab import drive\n",
        "drive.mount(\"/content/drive\", force_remount=True)\n",
        "\n",
        "from keras.models import Sequential\n",
        "from keras import layers\n",
        "from keras.callbacks import ModelCheckpoint"
      ],
      "execution_count": null,
      "outputs": [
        {
          "output_type": "stream",
          "text": [
            "Mounted at /content/drive\n"
          ],
          "name": "stdout"
        }
      ]
    },
    {
      "cell_type": "markdown",
      "metadata": {
        "id": "4Z75aGGn_4Ht"
      },
      "source": [
        "# Load MNIST Digit dataset and quickly visualize input"
      ]
    },
    {
      "cell_type": "code",
      "metadata": {
        "colab": {
          "base_uri": "https://localhost:8080/",
          "height": 302
        },
        "id": "XFRPNfLxREL2",
        "outputId": "7ba9d436-6802-4a7e-e8b5-c5d1d27e0317"
      },
      "source": [
        "# Load dataset\n",
        "(X_train_full, y_train_full), (X_test, y_test) = mnist.load_data()\n",
        "\n",
        "for i in range(0,9):\n",
        "    plt.subplot(330 + 1 + i)\n",
        "    plt.imshow(X_train_full[i])\n",
        "plt.show()\n",
        "\n",
        "X_train_full, X_test = X_train_full / 255., X_test / 255."
      ],
      "execution_count": null,
      "outputs": [
        {
          "output_type": "stream",
          "text": [
            "Downloading data from https://storage.googleapis.com/tensorflow/tf-keras-datasets/mnist.npz\n",
            "11493376/11490434 [==============================] - 0s 0us/step\n"
          ],
          "name": "stdout"
        },
        {
          "output_type": "display_data",
          "data": {
            "image/png": "[encoded data removed]",
            "text/plain": [
              "<Figure size 432x288 with 9 Axes>"
            ]
          },
          "metadata": {
            "tags": [],
            "needs_background": "light"
          }
        }
      ]
    },
    {
      "cell_type": "markdown",
      "metadata": {
        "id": "JVaSyiUv_9ka"
      },
      "source": [
        "# Define multi layer perceptron model and evaluate its performance"
      ]
    },
    {
      "cell_type": "code",
      "metadata": {
        "colab": {
          "base_uri": "https://localhost:8080/"
        },
        "id": "R3h72IN3RlLy",
        "outputId": "1d1a3bc7-7cce-4541-868f-19313bacf23b"
      },
      "source": [
        "model = Sequential()\n",
        "model.add(layers.Dropout(0.2, input_shape=(28, 28)))\n",
        "model.add(layers.Flatten())\n",
        "model.add(layers.Dense(256, activation=\"relu\"))\n",
        "model.add(layers.Dropout(0.2))\n",
        "model.add(layers.Dense(128, activation=\"relu\"))\n",
        "model.add(layers.Dropout(0.2))\n",
        "model.add(layers.Dense(10, activation='softmax'))\n",
        "\n",
        "save_best_option = ModelCheckpoint('/content/drive/My Drive/mnist.h5', save_best_only=True, monitor='val_loss', mode='min')\n",
        "lr_reducer_option = tf.keras.callbacks.ReduceLROnPlateau(\n",
        "    monitor='val_loss', factor=0.1, patience=3, verbose=0,\n",
        "    mode='auto', min_delta=0.001, cooldown=2, min_lr=10e-6\n",
        ")\n",
        "model.compile(optimizer='adam',\n",
        "              loss=tf.keras.losses.SparseCategoricalCrossentropy(),\n",
        "              metrics=['accuracy'])\n",
        "model.save(\"/content/drive/My Drive/mnist_global.h5\")\n",
        "\n",
        "# train the model\n",
        "history = model.fit(X_train_full, y_train_full, epochs=16, batch_size=32, validation_split=0.1, shuffle=True, callbacks=[save_best_option, lr_reducer_option])\n",
        "\n",
        "# measure performance on test set of traditional approach\n",
        "model = keras.models.load_model(\"/content/drive/My Drive/mnist.h5\")\n",
        "evaluation = model.evaluate(X_test, y_test)\n",
        "accuracy_mlp_all_data = evaluation[1]"
      ],
      "execution_count": null,
      "outputs": [
        {
          "output_type": "stream",
          "text": [
            "Epoch 1/16\n",
            "1688/1688 [==============================] - 6s 3ms/step - loss: 0.5377 - accuracy: 0.8326 - val_loss: 0.1043 - val_accuracy: 0.9700\n",
            "Epoch 2/16\n",
            "1688/1688 [==============================] - 5s 3ms/step - loss: 0.1730 - accuracy: 0.9471 - val_loss: 0.0909 - val_accuracy: 0.9723\n",
            "Epoch 3/16\n",
            "1688/1688 [==============================] - 5s 3ms/step - loss: 0.1291 - accuracy: 0.9593 - val_loss: 0.0793 - val_accuracy: 0.9760\n",
            "Epoch 4/16\n",
            "1688/1688 [==============================] - 5s 3ms/step - loss: 0.1089 - accuracy: 0.9670 - val_loss: 0.0745 - val_accuracy: 0.9780\n",
            "Epoch 5/16\n",
            "1688/1688 [==============================] - 5s 3ms/step - loss: 0.1030 - accuracy: 0.9673 - val_loss: 0.0701 - val_accuracy: 0.9792\n",
            "Epoch 6/16\n",
            "1688/1688 [==============================] - 5s 3ms/step - loss: 0.0912 - accuracy: 0.9713 - val_loss: 0.0708 - val_accuracy: 0.9788\n",
            "Epoch 7/16\n",
            "1688/1688 [==============================] - 6s 3ms/step - loss: 0.0824 - accuracy: 0.9751 - val_loss: 0.0637 - val_accuracy: 0.9823\n",
            "Epoch 8/16\n",
            "1688/1688 [==============================] - 5s 3ms/step - loss: 0.0741 - accuracy: 0.9758 - val_loss: 0.0689 - val_accuracy: 0.9802\n",
            "Epoch 9/16\n",
            "1688/1688 [==============================] - 5s 3ms/step - loss: 0.0702 - accuracy: 0.9772 - val_loss: 0.0692 - val_accuracy: 0.9805\n",
            "Epoch 10/16\n",
            "1688/1688 [==============================] - 5s 3ms/step - loss: 0.0670 - accuracy: 0.9784 - val_loss: 0.0626 - val_accuracy: 0.9820\n",
            "Epoch 11/16\n",
            "1688/1688 [==============================] - 5s 3ms/step - loss: 0.0614 - accuracy: 0.9799 - val_loss: 0.0617 - val_accuracy: 0.9840\n",
            "Epoch 12/16\n",
            "1688/1688 [==============================] - 6s 3ms/step - loss: 0.0594 - accuracy: 0.9805 - val_loss: 0.0637 - val_accuracy: 0.9823\n",
            "Epoch 13/16\n",
            "1688/1688 [==============================] - 5s 3ms/step - loss: 0.0641 - accuracy: 0.9789 - val_loss: 0.0626 - val_accuracy: 0.9810\n",
            "Epoch 14/16\n",
            "1688/1688 [==============================] - 5s 3ms/step - loss: 0.0473 - accuracy: 0.9851 - val_loss: 0.0579 - val_accuracy: 0.9835\n",
            "Epoch 15/16\n",
            "1688/1688 [==============================] - 6s 3ms/step - loss: 0.0403 - accuracy: 0.9875 - val_loss: 0.0578 - val_accuracy: 0.9842\n",
            "Epoch 16/16\n",
            "1688/1688 [==============================] - 6s 3ms/step - loss: 0.0315 - accuracy: 0.9898 - val_loss: 0.0584 - val_accuracy: 0.9855\n",
            "313/313 [==============================] - 1s 2ms/step - loss: 0.0505 - accuracy: 0.9860\n"
          ],
          "name": "stdout"
        }
      ]
    },
    {
      "cell_type": "markdown",
      "metadata": {
        "id": "6d9E69zFA8fj"
      },
      "source": [
        "# Now define function that learns a submodel for num_clients clients (based on equally sized subsets of training data) in num_iter averaging iterations"
      ]
    },
    {
      "cell_type": "code",
      "metadata": {
        "id": "rztf8CKhBMqN"
      },
      "source": [
        "def performance_on_n_clients(num_clients, num_iter):\n",
        "  model = Sequential()\n",
        "  model.add(layers.Dropout(0.2, input_shape=(28, 28)))\n",
        "  model.add(layers.Flatten())\n",
        "  model.add(layers.Dense(256, activation=\"relu\"))\n",
        "  model.add(layers.Dropout(0.2))\n",
        "  model.add(layers.Dense(128, activation=\"relu\"))\n",
        "  model.add(layers.Dropout(0.2))\n",
        "  model.add(layers.Dense(10, activation='softmax'))\n",
        "  model.compile(optimizer='adam',\n",
        "                loss=tf.keras.losses.SparseCategoricalCrossentropy(),\n",
        "                metrics=['accuracy'])\n",
        "  model.save(\"/content/drive/My Drive/mnist_global.h5\")\n",
        "  \n",
        "  items_per_num_clients = int(len(X_train_full) / num_clients)\n",
        "  # trains n models based on subset of dataset\n",
        "  aggregated_performance = 0.\n",
        "  for iter_idx in range(num_iter):\n",
        "    for client_idx in range(num_clients):\n",
        "      # generate random boolean mask the length of data\n",
        "      # use p 0.75 for False and 0.25 for True -> choose 25% sub samples\n",
        "      mask = np.random.choice([False, True], items_per_num_clients, p=[0.75, 0.25])\n",
        "      from_idx = items_per_num_clients * client_idx\n",
        "      to_idx = from_idx + items_per_num_clients\n",
        "      x_client = X_train_full[from_idx:to_idx][mask]\n",
        "      y_client = y_train_full[from_idx:to_idx][mask]\n",
        "      model = keras.models.load_model(\"/content/drive/My Drive/mnist_global.h5\")\n",
        "\n",
        "      save_best_option = ModelCheckpoint('/content/drive/My Drive/mnist_' + str(client_idx) + '.h5', save_best_only=True, monitor='val_loss', mode='min')\n",
        "      lr_reducer_option = tf.keras.callbacks.ReduceLROnPlateau(\n",
        "          monitor='val_loss', factor=0.1, patience=3, verbose=0,\n",
        "          mode='auto', min_delta=0.001, cooldown=2, min_lr=10e-6\n",
        "      )\n",
        "      model.compile(optimizer='adam',\n",
        "                    loss=tf.keras.losses.SparseCategoricalCrossentropy(),\n",
        "                    metrics=['accuracy'])\n",
        "\n",
        "      # train the model\n",
        "      history = model.fit(x_client, y_client, epochs=4, batch_size=32, validation_split=0.1, shuffle=True, callbacks=[save_best_option, lr_reducer_option])\n",
        "\n",
        "    # evaluate averaged model\n",
        "    # now do parameter averaging over all models\n",
        "    models = []\n",
        "    for client_idx in range(num_clients):\n",
        "      models.append(keras.models.load_model(\"/content/drive/My Drive/mnist_\" + str(client_idx) + \".h5\"))\n",
        "    weights = [model.get_weights() for model in models]\n",
        "\n",
        "    new_weights = []\n",
        "\n",
        "    for weights_list_tuple in zip(*weights):\n",
        "        new_weights.append(\n",
        "            np.array([np.array(weights_).mean(axis=0) for weights_ in zip(*weights_list_tuple)]))\n",
        "\n",
        "    # set averaged parameters on model and evaluate performance\n",
        "    new_model = keras.models.load_model(\"/content/drive/My Drive/mnist.h5\")\n",
        "    new_model.set_weights(np.array(new_weights))\n",
        "    new_model.save(\"/content/drive/My Drive/mnist_global.h5\")\n",
        "\n",
        "    aggregated_performances = new_model.evaluate(X_test, y_test)\n",
        "    aggregated_performance = aggregated_performances[1]\n",
        "    print(\"Aggregated performance at iter \", iter_idx, \": \", aggregated_performance)\n",
        "  return aggregated_performance\n"
      ],
      "execution_count": null,
      "outputs": []
    },
    {
      "cell_type": "markdown",
      "metadata": {
        "id": "Rxv2RQJiBmnP"
      },
      "source": [
        "# Now evaluate for different number of clients how the performance differs with parameter averaging"
      ]
    },
    {
      "cell_type": "code",
      "metadata": {
        "colab": {
          "base_uri": "https://localhost:8080/"
        },
        "id": "O6ivUpxiBr3Z",
        "outputId": "38b94d08-fe02-4c23-f21a-1f06b047e64d"
      },
      "source": [
        "all_accs = [accuracy_mlp_all_data] \n",
        "for n in range(2, 5):\n",
        "  all_accs.append(performance_on_n_clients(n, 4))\n",
        "print(all_accs)\n",
        "  "
      ],
      "execution_count": null,
      "outputs": [
        {
          "output_type": "stream",
          "text": [
            "Epoch 1/4\n",
            "213/213 [==============================] - 1s 4ms/step - loss: 1.1633 - accuracy: 0.6229 - val_loss: 0.3597 - val_accuracy: 0.8967\n",
            "Epoch 2/4\n",
            "213/213 [==============================] - 1s 3ms/step - loss: 0.3589 - accuracy: 0.8971 - val_loss: 0.2785 - val_accuracy: 0.9007\n",
            "Epoch 3/4\n",
            "213/213 [==============================] - 1s 4ms/step - loss: 0.2454 - accuracy: 0.9288 - val_loss: 0.2590 - val_accuracy: 0.9166\n",
            "Epoch 4/4\n",
            "213/213 [==============================] - 1s 3ms/step - loss: 0.2173 - accuracy: 0.9270 - val_loss: 0.2003 - val_accuracy: 0.9311\n",
            "Epoch 1/4\n",
            "210/210 [==============================] - 1s 4ms/step - loss: 1.1350 - accuracy: 0.6297 - val_loss: 0.2055 - val_accuracy: 0.9343\n",
            "Epoch 2/4\n",
            "210/210 [==============================] - 1s 3ms/step - loss: 0.3540 - accuracy: 0.9010 - val_loss: 0.1591 - val_accuracy: 0.9531\n",
            "Epoch 3/4\n",
            "210/210 [==============================] - 1s 3ms/step - loss: 0.2645 - accuracy: 0.9180 - val_loss: 0.1317 - val_accuracy: 0.9571\n",
            "Epoch 4/4\n",
            "210/210 [==============================] - 1s 4ms/step - loss: 0.2051 - accuracy: 0.9379 - val_loss: 0.0930 - val_accuracy: 0.9718\n"
          ],
          "name": "stdout"
        },
        {
          "output_type": "stream",
          "text": [
            "/usr/local/lib/python3.7/dist-packages/ipykernel_launcher.py:56: VisibleDeprecationWarning: Creating an ndarray from ragged nested sequences (which is a list-or-tuple of lists-or-tuples-or ndarrays with different lengths or shapes) is deprecated. If you meant to do this, you must specify 'dtype=object' when creating the ndarray\n"
          ],
          "name": "stderr"
        },
        {
          "output_type": "stream",
          "text": [
            "313/313 [==============================] - 1s 2ms/step - loss: 0.1706 - accuracy: 0.9481\n",
            "Aggregated performance at iter  0 :  0.9480999708175659\n",
            "Epoch 1/4\n",
            "211/211 [==============================] - 1s 4ms/step - loss: 0.2471 - accuracy: 0.9249 - val_loss: 0.1627 - val_accuracy: 0.9492\n",
            "Epoch 2/4\n",
            "211/211 [==============================] - 1s 3ms/step - loss: 0.1946 - accuracy: 0.9409 - val_loss: 0.1453 - val_accuracy: 0.9559\n",
            "Epoch 3/4\n",
            "211/211 [==============================] - 1s 4ms/step - loss: 0.1516 - accuracy: 0.9529 - val_loss: 0.1535 - val_accuracy: 0.9532\n",
            "Epoch 4/4\n",
            "211/211 [==============================] - 1s 3ms/step - loss: 0.1288 - accuracy: 0.9560 - val_loss: 0.1295 - val_accuracy: 0.9599\n",
            "Epoch 1/4\n",
            "210/210 [==============================] - 1s 4ms/step - loss: 0.2624 - accuracy: 0.9187 - val_loss: 0.1354 - val_accuracy: 0.9598\n",
            "Epoch 2/4\n",
            "210/210 [==============================] - 1s 4ms/step - loss: 0.2138 - accuracy: 0.9360 - val_loss: 0.1157 - val_accuracy: 0.9692\n",
            "Epoch 3/4\n",
            "210/210 [==============================] - 1s 4ms/step - loss: 0.1431 - accuracy: 0.9563 - val_loss: 0.1209 - val_accuracy: 0.9692\n",
            "Epoch 4/4\n",
            "210/210 [==============================] - 1s 3ms/step - loss: 0.1346 - accuracy: 0.9552 - val_loss: 0.1068 - val_accuracy: 0.9705\n",
            "313/313 [==============================] - 1s 2ms/step - loss: 0.1183 - accuracy: 0.9637\n",
            "Aggregated performance at iter  1 :  0.963699996471405\n",
            "Epoch 1/4\n",
            "213/213 [==============================] - 1s 4ms/step - loss: 0.1783 - accuracy: 0.9451 - val_loss: 0.1124 - val_accuracy: 0.9683\n",
            "Epoch 2/4\n",
            "213/213 [==============================] - 1s 3ms/step - loss: 0.1392 - accuracy: 0.9550 - val_loss: 0.1201 - val_accuracy: 0.9603\n",
            "Epoch 3/4\n",
            "213/213 [==============================] - 1s 3ms/step - loss: 0.1126 - accuracy: 0.9624 - val_loss: 0.1406 - val_accuracy: 0.9563\n",
            "Epoch 4/4\n",
            "213/213 [==============================] - 1s 3ms/step - loss: 0.1016 - accuracy: 0.9653 - val_loss: 0.1085 - val_accuracy: 0.9683\n",
            "Epoch 1/4\n",
            "211/211 [==============================] - 1s 4ms/step - loss: 0.1915 - accuracy: 0.9417 - val_loss: 0.1134 - val_accuracy: 0.9640\n",
            "Epoch 2/4\n",
            "211/211 [==============================] - 1s 4ms/step - loss: 0.1362 - accuracy: 0.9571 - val_loss: 0.1246 - val_accuracy: 0.9599\n",
            "Epoch 3/4\n",
            "211/211 [==============================] - 1s 3ms/step - loss: 0.1008 - accuracy: 0.9676 - val_loss: 0.1064 - val_accuracy: 0.9760\n",
            "Epoch 4/4\n",
            "211/211 [==============================] - 1s 3ms/step - loss: 0.0923 - accuracy: 0.9731 - val_loss: 0.1181 - val_accuracy: 0.9720\n",
            "313/313 [==============================] - 1s 2ms/step - loss: 0.0980 - accuracy: 0.9701\n",
            "Aggregated performance at iter  2 :  0.9700999855995178\n",
            "Epoch 1/4\n",
            "210/210 [==============================] - 1s 4ms/step - loss: 0.1435 - accuracy: 0.9567 - val_loss: 0.1092 - val_accuracy: 0.9638\n",
            "Epoch 2/4\n",
            "210/210 [==============================] - 1s 4ms/step - loss: 0.1313 - accuracy: 0.9630 - val_loss: 0.0978 - val_accuracy: 0.9651\n",
            "Epoch 3/4\n",
            "210/210 [==============================] - 1s 4ms/step - loss: 0.0970 - accuracy: 0.9719 - val_loss: 0.1101 - val_accuracy: 0.9664\n",
            "Epoch 4/4\n",
            "210/210 [==============================] - 1s 4ms/step - loss: 0.0971 - accuracy: 0.9725 - val_loss: 0.0990 - val_accuracy: 0.9705\n",
            "Epoch 1/4\n",
            "210/210 [==============================] - 1s 4ms/step - loss: 0.1551 - accuracy: 0.9526 - val_loss: 0.1026 - val_accuracy: 0.9718\n",
            "Epoch 2/4\n",
            "210/210 [==============================] - 1s 4ms/step - loss: 0.1107 - accuracy: 0.9649 - val_loss: 0.0898 - val_accuracy: 0.9786\n",
            "Epoch 3/4\n",
            "210/210 [==============================] - 1s 4ms/step - loss: 0.0897 - accuracy: 0.9727 - val_loss: 0.0786 - val_accuracy: 0.9799\n",
            "Epoch 4/4\n",
            "210/210 [==============================] - 1s 4ms/step - loss: 0.0797 - accuracy: 0.9738 - val_loss: 0.0963 - val_accuracy: 0.9732\n",
            "313/313 [==============================] - 1s 2ms/step - loss: 0.0917 - accuracy: 0.9719\n",
            "Aggregated performance at iter  3 :  0.9718999862670898\n",
            "Epoch 1/4\n",
            "138/138 [==============================] - 1s 4ms/step - loss: 1.3453 - accuracy: 0.5654 - val_loss: 0.3810 - val_accuracy: 0.9022\n",
            "Epoch 2/4\n",
            "138/138 [==============================] - 0s 3ms/step - loss: 0.4291 - accuracy: 0.8676 - val_loss: 0.2554 - val_accuracy: 0.9287\n",
            "Epoch 3/4\n",
            "138/138 [==============================] - 0s 3ms/step - loss: 0.3233 - accuracy: 0.9021 - val_loss: 0.2575 - val_accuracy: 0.9246\n",
            "Epoch 4/4\n",
            "138/138 [==============================] - 0s 3ms/step - loss: 0.2337 - accuracy: 0.9302 - val_loss: 0.2046 - val_accuracy: 0.9389\n",
            "Epoch 1/4\n",
            "140/140 [==============================] - 1s 5ms/step - loss: 1.3389 - accuracy: 0.5640 - val_loss: 0.3799 - val_accuracy: 0.8992\n",
            "Epoch 2/4\n",
            "140/140 [==============================] - 0s 4ms/step - loss: 0.4318 - accuracy: 0.8631 - val_loss: 0.3180 - val_accuracy: 0.9093\n",
            "Epoch 3/4\n",
            "140/140 [==============================] - 1s 4ms/step - loss: 0.2998 - accuracy: 0.9034 - val_loss: 0.2574 - val_accuracy: 0.9274\n",
            "Epoch 4/4\n",
            "140/140 [==============================] - 1s 4ms/step - loss: 0.2680 - accuracy: 0.9135 - val_loss: 0.2647 - val_accuracy: 0.9294\n",
            "Epoch 1/4\n",
            "139/139 [==============================] - 1s 5ms/step - loss: 1.3467 - accuracy: 0.5635 - val_loss: 0.2571 - val_accuracy: 0.9533\n",
            "Epoch 2/4\n",
            "139/139 [==============================] - 1s 4ms/step - loss: 0.4599 - accuracy: 0.8571 - val_loss: 0.1974 - val_accuracy: 0.9329\n",
            "Epoch 3/4\n",
            "139/139 [==============================] - 1s 4ms/step - loss: 0.3141 - accuracy: 0.8988 - val_loss: 0.1303 - val_accuracy: 0.9715\n",
            "Epoch 4/4\n",
            "139/139 [==============================] - 1s 4ms/step - loss: 0.2483 - accuracy: 0.9265 - val_loss: 0.1240 - val_accuracy: 0.9533\n",
            "313/313 [==============================] - 1s 2ms/step - loss: 0.2080 - accuracy: 0.9406\n",
            "Aggregated performance at iter  0 :  0.9405999779701233\n",
            "Epoch 1/4\n",
            "142/142 [==============================] - 1s 5ms/step - loss: 0.2869 - accuracy: 0.9100 - val_loss: 0.1683 - val_accuracy: 0.9422\n",
            "Epoch 2/4\n",
            "142/142 [==============================] - 1s 4ms/step - loss: 0.2047 - accuracy: 0.9359 - val_loss: 0.1369 - val_accuracy: 0.9562\n",
            "Epoch 3/4\n",
            "142/142 [==============================] - 1s 4ms/step - loss: 0.1735 - accuracy: 0.9464 - val_loss: 0.1291 - val_accuracy: 0.9622\n",
            "Epoch 4/4\n",
            "142/142 [==============================] - 1s 4ms/step - loss: 0.1661 - accuracy: 0.9520 - val_loss: 0.1259 - val_accuracy: 0.9582\n",
            "Epoch 1/4\n",
            "139/139 [==============================] - 1s 5ms/step - loss: 0.3267 - accuracy: 0.9024 - val_loss: 0.2228 - val_accuracy: 0.9312\n",
            "Epoch 2/4\n",
            "139/139 [==============================] - 0s 4ms/step - loss: 0.2262 - accuracy: 0.9307 - val_loss: 0.1956 - val_accuracy: 0.9352\n",
            "Epoch 3/4\n",
            "139/139 [==============================] - 1s 4ms/step - loss: 0.1832 - accuracy: 0.9412 - val_loss: 0.1864 - val_accuracy: 0.9393\n",
            "Epoch 4/4\n",
            "139/139 [==============================] - 1s 4ms/step - loss: 0.1544 - accuracy: 0.9528 - val_loss: 0.1881 - val_accuracy: 0.9453\n",
            "Epoch 1/4\n",
            "141/141 [==============================] - 1s 5ms/step - loss: 0.3073 - accuracy: 0.9070 - val_loss: 0.1454 - val_accuracy: 0.9621\n",
            "Epoch 2/4\n",
            "141/141 [==============================] - 1s 4ms/step - loss: 0.2369 - accuracy: 0.9289 - val_loss: 0.1316 - val_accuracy: 0.9601\n",
            "Epoch 3/4\n",
            "141/141 [==============================] - 1s 4ms/step - loss: 0.2150 - accuracy: 0.9356 - val_loss: 0.1140 - val_accuracy: 0.9721\n",
            "Epoch 4/4\n",
            "141/141 [==============================] - 1s 4ms/step - loss: 0.1554 - accuracy: 0.9523 - val_loss: 0.1399 - val_accuracy: 0.9581\n",
            "313/313 [==============================] - 1s 2ms/step - loss: 0.1411 - accuracy: 0.9570\n",
            "Aggregated performance at iter  1 :  0.9570000171661377\n",
            "Epoch 1/4\n",
            "141/141 [==============================] - 1s 5ms/step - loss: 0.2080 - accuracy: 0.9338 - val_loss: 0.0928 - val_accuracy: 0.9741\n",
            "Epoch 2/4\n",
            "141/141 [==============================] - 1s 4ms/step - loss: 0.1783 - accuracy: 0.9476 - val_loss: 0.0869 - val_accuracy: 0.9760\n",
            "Epoch 3/4\n",
            "141/141 [==============================] - 1s 4ms/step - loss: 0.1381 - accuracy: 0.9563 - val_loss: 0.0874 - val_accuracy: 0.9741\n",
            "Epoch 4/4\n",
            "141/141 [==============================] - 1s 4ms/step - loss: 0.1220 - accuracy: 0.9629 - val_loss: 0.0858 - val_accuracy: 0.9760\n",
            "Epoch 1/4\n",
            "142/142 [==============================] - 1s 5ms/step - loss: 0.2450 - accuracy: 0.9253 - val_loss: 0.1278 - val_accuracy: 0.9721\n",
            "Epoch 2/4\n",
            "142/142 [==============================] - 1s 4ms/step - loss: 0.1816 - accuracy: 0.9408 - val_loss: 0.1145 - val_accuracy: 0.9622\n",
            "Epoch 3/4\n",
            "142/142 [==============================] - 1s 4ms/step - loss: 0.1471 - accuracy: 0.9543 - val_loss: 0.1276 - val_accuracy: 0.9622\n",
            "Epoch 4/4\n",
            "142/142 [==============================] - 0s 4ms/step - loss: 0.1225 - accuracy: 0.9600 - val_loss: 0.1345 - val_accuracy: 0.9562\n",
            "Epoch 1/4\n",
            "142/142 [==============================] - 1s 5ms/step - loss: 0.2456 - accuracy: 0.9308 - val_loss: 0.0780 - val_accuracy: 0.9781\n",
            "Epoch 2/4\n",
            "142/142 [==============================] - 1s 4ms/step - loss: 0.1952 - accuracy: 0.9410 - val_loss: 0.0608 - val_accuracy: 0.9761\n",
            "Epoch 3/4\n",
            "142/142 [==============================] - 1s 4ms/step - loss: 0.1691 - accuracy: 0.9440 - val_loss: 0.0654 - val_accuracy: 0.9761\n",
            "Epoch 4/4\n",
            "142/142 [==============================] - 1s 4ms/step - loss: 0.1425 - accuracy: 0.9517 - val_loss: 0.0511 - val_accuracy: 0.9841\n",
            "313/313 [==============================] - 1s 2ms/step - loss: 0.1087 - accuracy: 0.9677\n",
            "Aggregated performance at iter  2 :  0.9677000045776367\n",
            "Epoch 1/4\n",
            "139/139 [==============================] - 1s 5ms/step - loss: 0.1882 - accuracy: 0.9465 - val_loss: 0.1284 - val_accuracy: 0.9655\n",
            "Epoch 2/4\n",
            "139/139 [==============================] - 1s 4ms/step - loss: 0.1316 - accuracy: 0.9585 - val_loss: 0.1378 - val_accuracy: 0.9554\n",
            "Epoch 3/4\n",
            "139/139 [==============================] - 1s 4ms/step - loss: 0.1098 - accuracy: 0.9622 - val_loss: 0.1334 - val_accuracy: 0.9635\n",
            "Epoch 4/4\n",
            "139/139 [==============================] - 1s 4ms/step - loss: 0.0952 - accuracy: 0.9649 - val_loss: 0.1178 - val_accuracy: 0.9635\n",
            "Epoch 1/4\n",
            "141/141 [==============================] - 1s 5ms/step - loss: 0.2094 - accuracy: 0.9433 - val_loss: 0.1367 - val_accuracy: 0.9561\n",
            "Epoch 2/4\n",
            "141/141 [==============================] - 1s 4ms/step - loss: 0.1481 - accuracy: 0.9539 - val_loss: 0.1309 - val_accuracy: 0.9661\n",
            "Epoch 3/4\n",
            "141/141 [==============================] - 1s 4ms/step - loss: 0.1178 - accuracy: 0.9666 - val_loss: 0.1458 - val_accuracy: 0.9441\n",
            "Epoch 4/4\n",
            "141/141 [==============================] - 1s 4ms/step - loss: 0.1049 - accuracy: 0.9650 - val_loss: 0.1222 - val_accuracy: 0.9661\n",
            "Epoch 1/4\n",
            "141/141 [==============================] - 1s 5ms/step - loss: 0.1916 - accuracy: 0.9397 - val_loss: 0.1199 - val_accuracy: 0.9739\n",
            "Epoch 2/4\n",
            "141/141 [==============================] - 1s 4ms/step - loss: 0.1463 - accuracy: 0.9560 - val_loss: 0.0989 - val_accuracy: 0.9800\n",
            "Epoch 3/4\n",
            "141/141 [==============================] - 1s 4ms/step - loss: 0.1212 - accuracy: 0.9607 - val_loss: 0.1228 - val_accuracy: 0.9739\n",
            "Epoch 4/4\n",
            "141/141 [==============================] - 1s 4ms/step - loss: 0.0906 - accuracy: 0.9735 - val_loss: 0.1050 - val_accuracy: 0.9780\n",
            "313/313 [==============================] - 1s 2ms/step - loss: 0.1015 - accuracy: 0.9689\n",
            "Aggregated performance at iter  3 :  0.9689000248908997\n",
            "Epoch 1/4\n",
            "103/103 [==============================] - 1s 5ms/step - loss: 1.4926 - accuracy: 0.5060 - val_loss: 0.4554 - val_accuracy: 0.8603\n",
            "Epoch 2/4\n",
            "103/103 [==============================] - 0s 4ms/step - loss: 0.4473 - accuracy: 0.8570 - val_loss: 0.3512 - val_accuracy: 0.8795\n",
            "Epoch 3/4\n",
            "103/103 [==============================] - 0s 4ms/step - loss: 0.3375 - accuracy: 0.8988 - val_loss: 0.2910 - val_accuracy: 0.9151\n",
            "Epoch 4/4\n",
            "103/103 [==============================] - 0s 4ms/step - loss: 0.2719 - accuracy: 0.9140 - val_loss: 0.2757 - val_accuracy: 0.9041\n",
            "Epoch 1/4\n",
            "106/106 [==============================] - 1s 5ms/step - loss: 1.4549 - accuracy: 0.5237 - val_loss: 0.4641 - val_accuracy: 0.8511\n",
            "Epoch 2/4\n",
            "106/106 [==============================] - 0s 4ms/step - loss: 0.4476 - accuracy: 0.8623 - val_loss: 0.3496 - val_accuracy: 0.8910\n",
            "Epoch 3/4\n",
            "106/106 [==============================] - 0s 4ms/step - loss: 0.3278 - accuracy: 0.8958 - val_loss: 0.3268 - val_accuracy: 0.8883\n",
            "Epoch 4/4\n",
            "106/106 [==============================] - 0s 4ms/step - loss: 0.2836 - accuracy: 0.9081 - val_loss: 0.2656 - val_accuracy: 0.9096\n",
            "Epoch 1/4\n",
            "108/108 [==============================] - 1s 5ms/step - loss: 1.4902 - accuracy: 0.5067 - val_loss: 0.4000 - val_accuracy: 0.8851\n",
            "Epoch 2/4\n",
            "108/108 [==============================] - 0s 4ms/step - loss: 0.4936 - accuracy: 0.8474 - val_loss: 0.3087 - val_accuracy: 0.9138\n",
            "Epoch 3/4\n",
            "108/108 [==============================] - 0s 4ms/step - loss: 0.3276 - accuracy: 0.8938 - val_loss: 0.2298 - val_accuracy: 0.9321\n",
            "Epoch 4/4\n",
            "108/108 [==============================] - 0s 4ms/step - loss: 0.2870 - accuracy: 0.9081 - val_loss: 0.2547 - val_accuracy: 0.9269\n",
            "Epoch 1/4\n",
            "107/107 [==============================] - 1s 6ms/step - loss: 1.4366 - accuracy: 0.5352 - val_loss: 0.3058 - val_accuracy: 0.9288\n",
            "Epoch 2/4\n",
            "107/107 [==============================] - 0s 4ms/step - loss: 0.4674 - accuracy: 0.8393 - val_loss: 0.2335 - val_accuracy: 0.9393\n",
            "Epoch 3/4\n",
            "107/107 [==============================] - 0s 4ms/step - loss: 0.3121 - accuracy: 0.9085 - val_loss: 0.1921 - val_accuracy: 0.9525\n",
            "Epoch 4/4\n",
            "107/107 [==============================] - 0s 4ms/step - loss: 0.2571 - accuracy: 0.9206 - val_loss: 0.1773 - val_accuracy: 0.9578\n",
            "313/313 [==============================] - 1s 2ms/step - loss: 0.2383 - accuracy: 0.9297\n",
            "Aggregated performance at iter  0 :  0.9297000169754028\n",
            "Epoch 1/4\n",
            "105/105 [==============================] - 1s 5ms/step - loss: 0.4102 - accuracy: 0.8757 - val_loss: 0.3455 - val_accuracy: 0.8874\n",
            "Epoch 2/4\n",
            "105/105 [==============================] - 0s 4ms/step - loss: 0.2804 - accuracy: 0.9118 - val_loss: 0.3495 - val_accuracy: 0.9035\n",
            "Epoch 3/4\n",
            "105/105 [==============================] - 0s 4ms/step - loss: 0.2156 - accuracy: 0.9318 - val_loss: 0.3047 - val_accuracy: 0.9062\n",
            "Epoch 4/4\n",
            "105/105 [==============================] - 0s 4ms/step - loss: 0.1744 - accuracy: 0.9478 - val_loss: 0.2967 - val_accuracy: 0.9035\n",
            "Epoch 1/4\n",
            "104/104 [==============================] - 1s 6ms/step - loss: 0.3377 - accuracy: 0.8958 - val_loss: 0.2980 - val_accuracy: 0.9081\n",
            "Epoch 2/4\n",
            "104/104 [==============================] - 0s 4ms/step - loss: 0.2539 - accuracy: 0.9197 - val_loss: 0.3050 - val_accuracy: 0.9027\n",
            "Epoch 3/4\n",
            "104/104 [==============================] - 0s 4ms/step - loss: 0.2072 - accuracy: 0.9339 - val_loss: 0.3179 - val_accuracy: 0.9135\n",
            "Epoch 4/4\n",
            "104/104 [==============================] - 0s 4ms/step - loss: 0.1945 - accuracy: 0.9361 - val_loss: 0.2577 - val_accuracy: 0.9351\n",
            "Epoch 1/4\n",
            "107/107 [==============================] - 1s 5ms/step - loss: 0.3363 - accuracy: 0.8933 - val_loss: 0.2536 - val_accuracy: 0.9263\n",
            "Epoch 2/4\n",
            "107/107 [==============================] - 0s 4ms/step - loss: 0.2541 - accuracy: 0.9174 - val_loss: 0.2268 - val_accuracy: 0.9289\n",
            "Epoch 3/4\n",
            "107/107 [==============================] - 0s 4ms/step - loss: 0.2222 - accuracy: 0.9292 - val_loss: 0.1999 - val_accuracy: 0.9553\n",
            "Epoch 4/4\n",
            "107/107 [==============================] - 0s 4ms/step - loss: 0.1642 - accuracy: 0.9505 - val_loss: 0.1855 - val_accuracy: 0.9421\n",
            "Epoch 1/4\n",
            "106/106 [==============================] - 1s 6ms/step - loss: 0.3382 - accuracy: 0.8980 - val_loss: 0.1519 - val_accuracy: 0.9547\n",
            "Epoch 2/4\n",
            "106/106 [==============================] - 0s 4ms/step - loss: 0.2524 - accuracy: 0.9228 - val_loss: 0.1269 - val_accuracy: 0.9653\n",
            "Epoch 3/4\n",
            "106/106 [==============================] - 0s 4ms/step - loss: 0.1908 - accuracy: 0.9371 - val_loss: 0.1390 - val_accuracy: 0.9547\n",
            "Epoch 4/4\n",
            "106/106 [==============================] - 0s 4ms/step - loss: 0.1730 - accuracy: 0.9398 - val_loss: 0.1036 - val_accuracy: 0.9787\n",
            "313/313 [==============================] - 1s 2ms/step - loss: 0.1579 - accuracy: 0.9526\n",
            "Aggregated performance at iter  1 :  0.9526000022888184\n",
            "Epoch 1/4\n",
            "108/108 [==============================] - 1s 6ms/step - loss: 0.2357 - accuracy: 0.9277 - val_loss: 0.1628 - val_accuracy: 0.9501\n",
            "Epoch 2/4\n",
            "108/108 [==============================] - 0s 4ms/step - loss: 0.1781 - accuracy: 0.9466 - val_loss: 0.1630 - val_accuracy: 0.9528\n",
            "Epoch 3/4\n",
            "108/108 [==============================] - 0s 4ms/step - loss: 0.1509 - accuracy: 0.9562 - val_loss: 0.1667 - val_accuracy: 0.9554\n",
            "Epoch 4/4\n",
            "108/108 [==============================] - 0s 4ms/step - loss: 0.1612 - accuracy: 0.9485 - val_loss: 0.1301 - val_accuracy: 0.9606\n",
            "Epoch 1/4\n",
            "105/105 [==============================] - 1s 5ms/step - loss: 0.2556 - accuracy: 0.9207 - val_loss: 0.1899 - val_accuracy: 0.9435\n",
            "Epoch 2/4\n",
            "105/105 [==============================] - 0s 4ms/step - loss: 0.1968 - accuracy: 0.9346 - val_loss: 0.1779 - val_accuracy: 0.9489\n",
            "Epoch 3/4\n",
            "105/105 [==============================] - 0s 4ms/step - loss: 0.1568 - accuracy: 0.9489 - val_loss: 0.1741 - val_accuracy: 0.9328\n",
            "Epoch 4/4\n",
            "105/105 [==============================] - 0s 4ms/step - loss: 0.1331 - accuracy: 0.9546 - val_loss: 0.1796 - val_accuracy: 0.9435\n",
            "Epoch 1/4\n",
            "106/106 [==============================] - 1s 5ms/step - loss: 0.2484 - accuracy: 0.9229 - val_loss: 0.1395 - val_accuracy: 0.9576\n",
            "Epoch 2/4\n",
            "106/106 [==============================] - 0s 4ms/step - loss: 0.2092 - accuracy: 0.9345 - val_loss: 0.1248 - val_accuracy: 0.9549\n",
            "Epoch 3/4\n",
            "106/106 [==============================] - 0s 4ms/step - loss: 0.1411 - accuracy: 0.9562 - val_loss: 0.1483 - val_accuracy: 0.9416\n",
            "Epoch 4/4\n",
            "106/106 [==============================] - 0s 4ms/step - loss: 0.1345 - accuracy: 0.9527 - val_loss: 0.1417 - val_accuracy: 0.9416\n",
            "Epoch 1/4\n",
            "107/107 [==============================] - 1s 5ms/step - loss: 0.2434 - accuracy: 0.9202 - val_loss: 0.1068 - val_accuracy: 0.9763\n",
            "Epoch 2/4\n",
            "107/107 [==============================] - 0s 4ms/step - loss: 0.1671 - accuracy: 0.9494 - val_loss: 0.1119 - val_accuracy: 0.9789\n",
            "Epoch 3/4\n",
            "107/107 [==============================] - 0s 4ms/step - loss: 0.1543 - accuracy: 0.9470 - val_loss: 0.1491 - val_accuracy: 0.9526\n",
            "Epoch 4/4\n",
            "107/107 [==============================] - 0s 4ms/step - loss: 0.1433 - accuracy: 0.9563 - val_loss: 0.1080 - val_accuracy: 0.9737\n",
            "313/313 [==============================] - 1s 2ms/step - loss: 0.1356 - accuracy: 0.9593\n",
            "Aggregated performance at iter  2 :  0.9592999815940857\n",
            "Epoch 1/4\n",
            "105/105 [==============================] - 1s 6ms/step - loss: 0.1889 - accuracy: 0.9450 - val_loss: 0.2146 - val_accuracy: 0.9464\n",
            "Epoch 2/4\n",
            "105/105 [==============================] - 0s 4ms/step - loss: 0.1312 - accuracy: 0.9579 - val_loss: 0.2344 - val_accuracy: 0.9464\n",
            "Epoch 3/4\n",
            "105/105 [==============================] - 0s 4ms/step - loss: 0.1267 - accuracy: 0.9571 - val_loss: 0.1930 - val_accuracy: 0.9464\n",
            "Epoch 4/4\n",
            "105/105 [==============================] - 0s 4ms/step - loss: 0.0897 - accuracy: 0.9692 - val_loss: 0.2272 - val_accuracy: 0.9383\n",
            "Epoch 1/4\n",
            "103/103 [==============================] - 1s 5ms/step - loss: 0.2069 - accuracy: 0.9319 - val_loss: 0.1733 - val_accuracy: 0.9425\n",
            "Epoch 2/4\n",
            "103/103 [==============================] - 0s 4ms/step - loss: 0.1441 - accuracy: 0.9512 - val_loss: 0.1812 - val_accuracy: 0.9342\n",
            "Epoch 3/4\n",
            "103/103 [==============================] - 0s 4ms/step - loss: 0.1159 - accuracy: 0.9625 - val_loss: 0.1723 - val_accuracy: 0.9507\n",
            "Epoch 4/4\n",
            "103/103 [==============================] - 0s 4ms/step - loss: 0.0987 - accuracy: 0.9671 - val_loss: 0.1591 - val_accuracy: 0.9425\n",
            "Epoch 1/4\n",
            "108/108 [==============================] - 1s 5ms/step - loss: 0.2270 - accuracy: 0.9270 - val_loss: 0.1886 - val_accuracy: 0.9450\n",
            "Epoch 2/4\n",
            "108/108 [==============================] - 0s 4ms/step - loss: 0.1495 - accuracy: 0.9533 - val_loss: 0.1856 - val_accuracy: 0.9398\n",
            "Epoch 3/4\n",
            "108/108 [==============================] - 0s 4ms/step - loss: 0.1350 - accuracy: 0.9572 - val_loss: 0.1813 - val_accuracy: 0.9450\n",
            "Epoch 4/4\n",
            "108/108 [==============================] - 0s 4ms/step - loss: 0.1225 - accuracy: 0.9606 - val_loss: 0.1690 - val_accuracy: 0.9529\n",
            "Epoch 1/4\n",
            "108/108 [==============================] - 1s 5ms/step - loss: 0.1937 - accuracy: 0.9410 - val_loss: 0.1282 - val_accuracy: 0.9687\n",
            "Epoch 2/4\n",
            "108/108 [==============================] - 0s 4ms/step - loss: 0.1622 - accuracy: 0.9531 - val_loss: 0.1151 - val_accuracy: 0.9608\n",
            "Epoch 3/4\n",
            "108/108 [==============================] - 0s 4ms/step - loss: 0.1302 - accuracy: 0.9595 - val_loss: 0.1340 - val_accuracy: 0.9582\n",
            "Epoch 4/4\n",
            "108/108 [==============================] - 0s 4ms/step - loss: 0.0978 - accuracy: 0.9679 - val_loss: 0.1235 - val_accuracy: 0.9556\n",
            "313/313 [==============================] - 1s 3ms/step - loss: 0.1245 - accuracy: 0.9629\n",
            "Aggregated performance at iter  3 :  0.9628999829292297\n",
            "[0.9860000014305115, 0.9718999862670898, 0.9689000248908997, 0.9628999829292297]\n"
          ],
          "name": "stdout"
        }
      ]
    },
    {
      "cell_type": "markdown",
      "metadata": {
        "id": "gvOQlFCdCtft"
      },
      "source": [
        "# Plot result for different number of clients"
      ]
    },
    {
      "cell_type": "code",
      "metadata": {
        "colab": {
          "base_uri": "https://localhost:8080/",
          "height": 265
        },
        "id": "ATIComx1CrY8",
        "outputId": "cd23d827-21b6-4f2b-aeaa-f967e750ff6d"
      },
      "source": [
        "plt.plot([1,2,3,4], all_accs)\n",
        "plt.show()"
      ],
      "execution_count": null,
      "outputs": [
        {
          "output_type": "display_data",
          "data": {
            "image/png": "[encoded data removed]",
            "text/plain": [
              "<Figure size 432x288 with 1 Axes>"
            ]
          },
          "metadata": {
            "tags": [],
            "needs_background": "light"
          }
        }
      ]
    }
  ]
}